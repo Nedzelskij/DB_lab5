{
 "cells": [
  {
   "cell_type": "code",
   "execution_count": 100,
   "metadata": {},
   "outputs": [],
   "source": [
    "from neo4j import GraphDatabase, basic_auth\n",
    "\n",
    "import pprint"
   ]
  },
  {
   "cell_type": "code",
   "execution_count": 101,
   "metadata": {},
   "outputs": [],
   "source": [
    "# 1) Змоделювати предметну область онлайн-магазину:\n",
    "\n",
    "delete_query = [\n",
    "    \"MATCH (i:Item) DETACH DELETE i;\",\n",
    "    \"MATCH (c:Customer) DETACH DELETE c;\",\n",
    "    \"MATCH (o:Order) DETACH DELETE o;\"\n",
    "]\n",
    "\n",
    "create_query = \"\"\"\n",
    "CREATE \n",
    "(i1:Item {item_id: 1, category: \"Phone\", model: \"Google Pixel 5\", producer: \"Google\", price: 699, color: \"Just Black\"}),\n",
    "(i2:Item {item_id: 2, category: \"Laptop\", model: \"MacBook Air\", producer: \"Apple\", price: 999, color: \"Silver\"}),\n",
    "(i3:Item {item_id: 3, category: \"Tablet\", model: \"iPad Pro\", producer: \"Apple\", price: 799, color: \"Space Gray\"}),\n",
    "(i4:Item {item_id: 4, category: \"Smartwatch\", model: \"Apple Watch Series 6\", producer: \"Apple\", price: 399, color: \"Space Black\"}),\n",
    "(i5:Item {item_id: 5, category: \"Headphones\", model: \"AirPods Pro\", producer: \"Apple\", price: 249, color: \"White\"}),\n",
    "(i6:Item {item_id: 6, category: \"Smartphone\", model: \"Samsung Galaxy S21\", producer: \"Samsung\", price: 799, color: \"Phantom Gray\"}),\n",
    "(i7:Item {item_id: 7, category: \"Smart TV\", model: \"LG OLED55C1PUB\", producer: \"LG\", price: 1499, color: \"Black\"}),\n",
    "(i8:Item {item_id: 8, category: \"Gaming Console\", model: \"PlayStation 5\", producer: \"Sony\", price: 499, color: \"White\"}),\n",
    "(i9:Item {item_id: 9, category: \"Camera\", model: \"Canon EOS R5\", producer: \"Canon\", price: 3899, color: \"Black\"}),\n",
    "\n",
    "(c1:Customer {customer_id: 1, name: \"Olga\", surname: \"Ivanova\", phones: [123456789, 987654321], address: \"123 Main St, Anytown, USA\"}),\n",
    "(c2:Customer {customer_id: 2, name: \"Pavel\", surname: \"Sidorov\", phones: [555555555, 777777777], address: \"456 Oak St, Othertown, USA\"}),\n",
    "(c3:Customer {customer_id: 3, name: \"Maria\", surname: \"Kuznetsova\", phones: [333333333, 666666666], address: \"789 Elm St, Thistown, USA\"}),\n",
    "(c4:Customer {customer_id: 4, name: \"Dmitry\", surname: \"Popov\", phones: [888888888, 999999999], address: \"101 Pine St, Anothertown, USA\"}),\n",
    "(c5:Customer {customer_id: 5, name: \"Elena\", surname: \"Volkova\", phones: [111111111, 222222222], address: \"135 Cedar St, Lasttown, USA\"}),\n",
    "(c6:Customer {customer_id: 6, name: \"Ivan\", surname: \"Petrov\", phones: [444444444], address: \"246 Birch St, Nexttown, USA\"}),\n",
    "\n",
    "(o1:Order {order_id: 201514, date: \"2015-04-15\"}),\n",
    "(o2:Order {order_id: 201515, date: \"2015-04-16\"}),\n",
    "(o3:Order {order_id: 201516, date: \"2015-04-17\"}),\n",
    "(o4:Order {order_id: 201517, date: \"2015-04-18\"}),\n",
    "(o5:Order {order_id: 201518, date: \"2015-04-19\"})\n",
    "\"\"\"\n",
    "\n",
    "bought_query = \"\"\"\n",
    "MATCH (c:Customer {customer_id: $customer_id}), (o:Order {order_id: $order_id})\n",
    "MERGE (c)-[:BOUGHT]->(o)\n",
    "\"\"\"\n",
    "\n",
    "contains_query = \"\"\"\n",
    "MATCH (o:Order {order_id: $order_id}), (i:Item {item_id: $item_id})\n",
    "MERGE (o)-[:CONTAINS]->(i)\n",
    "\"\"\"\n",
    "\n",
    "view_query = \"\"\"\n",
    "MATCH (c:Customer {customer_id: $customer_id}), (i:Item {item_id: $item_id})\n",
    "MERGE (c)-[:VIEW]->(i)\n",
    "\"\"\"\n",
    "\n",
    "update_total_sum_query = \"\"\"\n",
    "MATCH (o:Order {order_id: $order_id})\n",
    "WITH o, [(o)-[:CONTAINS]->(i:Item) | i.price] AS prices\n",
    "WITH o, reduce(total = 0, price IN prices | total + price) AS new_total_sum\n",
    "SET o.total_sum = new_total_sum;\n",
    "\"\"\""
   ]
  },
  {
   "cell_type": "code",
   "execution_count": 102,
   "metadata": {},
   "outputs": [],
   "source": [
    "driver = GraphDatabase.driver(\n",
    "  \"neo4j://3.238.2.126:7687\",\n",
    "  auth=basic_auth(\"neo4j\", \"dresses-jaw-branch\"))\n",
    "\n",
    "\n",
    "def create_data():\n",
    "    with driver.session() as session:\n",
    "        for query in delete_query:\n",
    "            session.run(query)\n",
    "        session.run(create_query)  \n",
    "\n",
    "\n",
    "def add_contains_relationship(order_id, item_id):\n",
    "    with driver.session() as session:\n",
    "        session.run(contains_query, order_id=order_id, item_id=item_id)\n",
    "        session.run(update_total_sum_query, order_id=order_id)\n",
    "        \n",
    "\n",
    "def add_bought_relationship(customer_id, order_id):\n",
    "    with driver.session() as session:\n",
    "        session.run(bought_query, customer_id=customer_id, order_id=order_id)\n",
    "\n",
    "\n",
    "def add_view_relationship(customer_id, item_id):\n",
    "    with driver.session() as session:\n",
    "        session.run(view_query, customer_id=customer_id, item_id=item_id)\n",
    "\n",
    "\n",
    "create_data()\n",
    "\n",
    "add_contains_relationship(201514, 1)\n",
    "add_contains_relationship(201514, 2)\n",
    "add_contains_relationship(201515, 3)\n",
    "add_contains_relationship(201516, 5)\n",
    "add_contains_relationship(201516, 7)\n",
    "add_contains_relationship(201516, 2)\n",
    "add_contains_relationship(201517, 1)\n",
    "add_contains_relationship(201518, 2)\n",
    "add_contains_relationship(201518, 4)\n",
    "\n",
    "add_bought_relationship(1, 201514)\n",
    "add_bought_relationship(2, 201515)\n",
    "add_bought_relationship(2, 201514)\n",
    "add_bought_relationship(3, 201518)\n",
    "add_bought_relationship(4, 201516)\n",
    "add_bought_relationship(4, 201517)\n",
    "add_bought_relationship(5, 201516)\n",
    "\n",
    "add_view_relationship(1, 2)\n",
    "add_view_relationship(1, 7)\n",
    "add_view_relationship(3, 5)\n",
    "add_view_relationship(3, 1)\n",
    "add_view_relationship(3, 2)\n",
    "add_view_relationship(6, 9)"
   ]
  },
  {
   "cell_type": "code",
   "execution_count": 103,
   "metadata": {},
   "outputs": [
    {
     "name": "stdout",
     "output_type": "stream",
     "text": [
      "[{'category': 'Laptop',\n",
      "  'color': 'Silver',\n",
      "  'item_id': 2,\n",
      "  'model': 'MacBook Air',\n",
      "  'price': 999,\n",
      "  'producer': 'Apple'},\n",
      " {'category': 'Phone',\n",
      "  'color': 'Just Black',\n",
      "  'item_id': 1,\n",
      "  'model': 'Google Pixel 5',\n",
      "  'price': 699,\n",
      "  'producer': 'Google'}]\n"
     ]
    }
   ],
   "source": [
    "# 2) Знайти Items які входять в конкретний Order (за Order id) \n",
    "\n",
    "def find_items_in_order(order_id):\n",
    "    with driver.session() as session:\n",
    "        result = session.run(\n",
    "            \"\"\"\n",
    "            MATCH (o:Order {order_id: $order_id})-[:CONTAINS]->(i:Item)\n",
    "            RETURN i\n",
    "            \"\"\",\n",
    "            order_id=order_id\n",
    "        )\n",
    "        items = [record[\"i\"]._properties for record in result]\n",
    "        return items\n",
    "\n",
    "\n",
    "order_id = 201514\n",
    "items_in_order = find_items_in_order(order_id)\n",
    "pprint.pprint(items_in_order)"
   ]
  },
  {
   "cell_type": "code",
   "execution_count": 104,
   "metadata": {},
   "outputs": [
    {
     "name": "stdout",
     "output_type": "stream",
     "text": [
      "Total cost of order 201514: $1698\n"
     ]
    }
   ],
   "source": [
    "# 3) Підрахувати вартість конкретного Order\n",
    " \n",
    "def get_order_total(order_id):\n",
    "    with driver.session() as session:\n",
    "        result = session.run(\n",
    "            \"\"\"\n",
    "            MATCH (o:Order {order_id: $order_id})\n",
    "            RETURN o.total_sum AS total_cost\n",
    "            \"\"\",\n",
    "            order_id=order_id\n",
    "        )\n",
    "        total_cost = result.single()[\"total_cost\"]\n",
    "        return total_cost\n",
    "\n",
    "\n",
    "order_id = 201514\n",
    "total_cost = get_order_total(order_id)\n",
    "print(f\"Total cost of order {order_id}: ${total_cost}\")"
   ]
  },
  {
   "cell_type": "code",
   "execution_count": 109,
   "metadata": {},
   "outputs": [
    {
     "name": "stdout",
     "output_type": "stream",
     "text": [
      "[{'date': '2015-04-18', 'order_id': 201517, 'total_sum': 699},\n",
      " {'date': '2015-04-17', 'order_id': 201516, 'total_sum': 2747}]\n"
     ]
    }
   ],
   "source": [
    "# 4) Знайти всі Orders конкретного Customer\n",
    "\n",
    "def find_orders_by_customer(customer_id):\n",
    "    with driver.session() as session:\n",
    "        result = session.run(\n",
    "            \"\"\"\n",
    "            MATCH (c:Customer {customer_id: $customer_id})-[:BOUGHT]->(o:Order)\n",
    "            RETURN o\n",
    "            \"\"\",\n",
    "            customer_id=customer_id\n",
    "        )\n",
    "        orders = [record[\"o\"]._properties for record in result]\n",
    "        return orders\n",
    "\n",
    "\n",
    "customer_id = 4\n",
    "orders = find_orders_by_customer(customer_id)\n",
    "pprint.pprint(orders)"
   ]
  },
  {
   "cell_type": "code",
   "execution_count": 115,
   "metadata": {},
   "outputs": [
    {
     "name": "stdout",
     "output_type": "stream",
     "text": [
      "[{'category': 'Phone',\n",
      "  'color': 'Just Black',\n",
      "  'item_id': 1,\n",
      "  'model': 'Google Pixel 5',\n",
      "  'price': 699,\n",
      "  'producer': 'Google'},\n",
      " {'category': 'Laptop',\n",
      "  'color': 'Silver',\n",
      "  'item_id': 2,\n",
      "  'model': 'MacBook Air',\n",
      "  'price': 999,\n",
      "  'producer': 'Apple'},\n",
      " {'category': 'Smart TV',\n",
      "  'color': 'Black',\n",
      "  'item_id': 7,\n",
      "  'model': 'LG OLED55C1PUB',\n",
      "  'price': 1499,\n",
      "  'producer': 'LG'},\n",
      " {'category': 'Headphones',\n",
      "  'color': 'White',\n",
      "  'item_id': 5,\n",
      "  'model': 'AirPods Pro',\n",
      "  'price': 249,\n",
      "  'producer': 'Apple'}]\n"
     ]
    }
   ],
   "source": [
    "# 5) Знайти всі Items куплені конкретним Customer (через його Orders)\n",
    "\n",
    "def find_items_by_customer(customer_id):\n",
    "    with driver.session() as session:\n",
    "        result = session.run(\n",
    "            \"\"\"\n",
    "            MATCH (c:Customer {customer_id: $customer_id})-[:BOUGHT]->(:Order)-[:CONTAINS]->(i:Item)\n",
    "            RETURN i\n",
    "            \"\"\",\n",
    "            customer_id=customer_id\n",
    "        )\n",
    "        items = [record[\"i\"]._properties for record in result]\n",
    "        return items\n",
    "\n",
    "\n",
    "customer_id = 4\n",
    "items = find_items_by_customer(customer_id)\n",
    "pprint.pprint(items)"
   ]
  },
  {
   "cell_type": "code",
   "execution_count": 116,
   "metadata": {},
   "outputs": [
    {
     "name": "stdout",
     "output_type": "stream",
     "text": [
      "Total items bought by customer: 4\n"
     ]
    }
   ],
   "source": [
    "# 6) Знайти загальну кількість Items куплені конкретним Customer (через його Order)\n",
    "\n",
    "def count_items_bought_by_customer(customer_id):\n",
    "    with driver.session() as session:\n",
    "        result = session.run(\n",
    "            \"\"\"\n",
    "            MATCH (c:Customer {customer_id: $customer_id})-[:BOUGHT]->(:Order)-[:CONTAINS]->(i:Item)\n",
    "            RETURN COUNT(i) AS total_items_bought\n",
    "            \"\"\",\n",
    "            customer_id=customer_id\n",
    "        )\n",
    "        total_items_bought = result.single()[\"total_items_bought\"]\n",
    "        return total_items_bought\n",
    "\n",
    "\n",
    "customer_id = 4\n",
    "total_items_bought = count_items_bought_by_customer(customer_id)\n",
    "print(\"Total items bought by customer:\", total_items_bought)"
   ]
  },
  {
   "cell_type": "code",
   "execution_count": 117,
   "metadata": {},
   "outputs": [
    {
     "name": "stdout",
     "output_type": "stream",
     "text": [
      "Total spent by customer: 3446\n"
     ]
    }
   ],
   "source": [
    "# 7) Знайти для Customer на яку загальну суму він придбав товарів (через його Order)\n",
    "\n",
    "def total_spent_by_customer(customer_id):\n",
    "    with driver.session() as session:\n",
    "        result = session.run(\n",
    "            \"\"\"\n",
    "            MATCH (c:Customer {customer_id: $customer_id})-[:BOUGHT]->(o:Order)\n",
    "            RETURN SUM(o.total_sum) AS total_spent_by_customer\n",
    "            \"\"\",\n",
    "            customer_id=customer_id\n",
    "        )\n",
    "        total_spent_by_customer = result.single()[\"total_spent_by_customer\"]\n",
    "        return total_spent_by_customer\n",
    "\n",
    "\n",
    "customer_id = 4\n",
    "total_spent = total_spent_by_customer(customer_id)\n",
    "print(\"Total spent by customer:\", total_spent)"
   ]
  },
  {
   "cell_type": "code",
   "execution_count": 129,
   "metadata": {},
   "outputs": [
    {
     "name": "stdout",
     "output_type": "stream",
     "text": [
      "Item 2 was purchased 3 times\n",
      "Item 1 was purchased 2 times\n",
      "Item 3 was purchased 1 times\n",
      "Item 4 was purchased 1 times\n",
      "Item 5 was purchased 1 times\n",
      "Item 7 was purchased 1 times\n"
     ]
    }
   ],
   "source": [
    "# 8) Знайти скільки разів кожен товар був придбаний, відсортувати за цим значенням\n",
    "\n",
    "def count_purchases_per_item():\n",
    "    with driver.session() as session:\n",
    "        result = session.run(\n",
    "            \"\"\"\n",
    "            MATCH (i:Item)<-[:CONTAINS]-(:Order)\n",
    "            RETURN i, COUNT(*) AS purchases\n",
    "            ORDER BY purchases DESC\n",
    "            \"\"\"\n",
    "        )\n",
    "        purchases_per_item = [(record[\"i\"], record[\"purchases\"]) for record in result]\n",
    "        return purchases_per_item\n",
    "\n",
    "\n",
    "purchases_per_item = count_purchases_per_item()\n",
    "for item, purchases in purchases_per_item:\n",
    "    print(f\"Item {item['item_id']} was purchased {purchases} times\")"
   ]
  },
  {
   "cell_type": "code",
   "execution_count": 141,
   "metadata": {},
   "outputs": [
    {
     "name": "stdout",
     "output_type": "stream",
     "text": [
      "[{'category': 'Smart TV',\n",
      "  'color': 'Black',\n",
      "  'item_id': 7,\n",
      "  'model': 'LG OLED55C1PUB',\n",
      "  'price': 1499,\n",
      "  'producer': 'LG'},\n",
      " {'category': 'Laptop',\n",
      "  'color': 'Silver',\n",
      "  'item_id': 2,\n",
      "  'model': 'MacBook Air',\n",
      "  'price': 999,\n",
      "  'producer': 'Apple'}]\n"
     ]
    }
   ],
   "source": [
    "# 9) Знайти всі Items переглянуті (view) конкретним Customer\n",
    "\n",
    "def find_viewed_items(customer_id):\n",
    "    with driver.session() as session:\n",
    "        result = session.run(\n",
    "            \"\"\"\n",
    "            MATCH (c:Customer {customer_id: $customer_id})-[:VIEW]->(i:Item)\n",
    "            RETURN i\n",
    "            \"\"\",\n",
    "            customer_id=customer_id\n",
    "        )\n",
    "        viewed_items = [record[\"i\"]._properties for record in result]\n",
    "        return viewed_items\n",
    "\n",
    "customer_id = 1\n",
    "viewed_items = find_viewed_items(customer_id)\n",
    "pprint.pprint(viewed_items)"
   ]
  },
  {
   "cell_type": "code",
   "execution_count": 140,
   "metadata": {},
   "outputs": [
    {
     "name": "stdout",
     "output_type": "stream",
     "text": [
      "[{'category': 'Laptop',\n",
      "  'color': 'Silver',\n",
      "  'item_id': 2,\n",
      "  'model': 'MacBook Air',\n",
      "  'price': 999,\n",
      "  'producer': 'Apple'},\n",
      " {'category': 'Smart TV',\n",
      "  'color': 'Black',\n",
      "  'item_id': 7,\n",
      "  'model': 'LG OLED55C1PUB',\n",
      "  'price': 1499,\n",
      "  'producer': 'LG'}]\n"
     ]
    }
   ],
   "source": [
    "# 10) Знайти інші Items що купувались разом з конкретним Item (тобто всі Items що входять до Order-s разом з даними Item)\n",
    "def find_related_items(item_id):\n",
    "    with driver.session() as session:\n",
    "        result = session.run(\n",
    "            \"\"\"\n",
    "            MATCH (i1:Item {item_id: $item_id})<-[:CONTAINS]-(o:Order)-[:CONTAINS]->(i2:Item)\n",
    "            WHERE i1 <> i2\n",
    "            RETURN DISTINCT i2\n",
    "            \"\"\",\n",
    "            item_id=item_id\n",
    "        )\n",
    "        items = [record[\"i2\"]._properties for record in result]\n",
    "        return items\n",
    "\n",
    "item_id = 5\n",
    "related_items = find_related_items(item_id)\n",
    "pprint.pprint(related_items)"
   ]
  },
  {
   "cell_type": "code",
   "execution_count": 134,
   "metadata": {},
   "outputs": [
    {
     "name": "stdout",
     "output_type": "stream",
     "text": [
      "[{'address': '101 Pine St, Anothertown, USA',\n",
      "  'customer_id': 4,\n",
      "  'name': 'Dmitry',\n",
      "  'phones': [888888888, 999999999],\n",
      "  'surname': 'Popov'},\n",
      " {'address': '456 Oak St, Othertown, USA',\n",
      "  'customer_id': 2,\n",
      "  'name': 'Pavel',\n",
      "  'phones': [555555555, 777777777],\n",
      "  'surname': 'Sidorov'},\n",
      " {'address': '123 Main St, Anytown, USA',\n",
      "  'customer_id': 1,\n",
      "  'name': 'Olga',\n",
      "  'phones': [123456789, 987654321],\n",
      "  'surname': 'Ivanova'}]\n"
     ]
    }
   ],
   "source": [
    "# 11) Знайти Customers які купили даний конкретний Item\n",
    "\n",
    "def find_customers_who_bought_item(item_id):\n",
    "    with driver.session() as session:\n",
    "        result = session.run(\n",
    "            \"\"\"\n",
    "            MATCH (c:Customer)-[:BOUGHT]->(:Order)-[:CONTAINS]->(i:Item)\n",
    "            WHERE i.item_id = $item_id\n",
    "            RETURN DISTINCT c\n",
    "            \"\"\",\n",
    "            item_id=item_id\n",
    "        )\n",
    "        customers = [record[\"c\"]._properties for record in result]\n",
    "        return customers\n",
    "\n",
    "item_id = 1\n",
    "customers = find_customers_who_bought_item(item_id)\n",
    "pprint.pprint(customers)"
   ]
  },
  {
   "cell_type": "code",
   "execution_count": 136,
   "metadata": {},
   "outputs": [
    {
     "name": "stdout",
     "output_type": "stream",
     "text": [
      "[{'category': 'Smart TV',\n",
      "  'color': 'Black',\n",
      "  'item_id': 7,\n",
      "  'model': 'LG OLED55C1PUB',\n",
      "  'price': 1499,\n",
      "  'producer': 'LG'}]\n"
     ]
    }
   ],
   "source": [
    "# 12) Знайти для певного Customer(а) товари, які він переглядав, але не купив\n",
    "\n",
    "def find_items_viewed_but_not_bought(customer_id):\n",
    "    with driver.session() as session:\n",
    "        result = session.run(\n",
    "            \"\"\"\n",
    "            MATCH (c:Customer {customer_id: $customer_id})-[:VIEW]->(i:Item)\n",
    "            WHERE NOT EXISTS {\n",
    "                (c)-[:BOUGHT]->(:Order)-[:CONTAINS]->(i)\n",
    "            }\n",
    "            RETURN i\n",
    "            \"\"\",\n",
    "            customer_id=customer_id\n",
    "        )\n",
    "        items = [record[\"i\"]._properties for record in result]\n",
    "        return items\n",
    "\n",
    "customer_id = 1\n",
    "items = find_items_viewed_but_not_bought(customer_id)\n",
    "pprint.pprint(items)"
   ]
  }
 ],
 "metadata": {
  "kernelspec": {
   "display_name": "Python 3",
   "language": "python",
   "name": "python3"
  },
  "language_info": {
   "codemirror_mode": {
    "name": "ipython",
    "version": 3
   },
   "file_extension": ".py",
   "mimetype": "text/x-python",
   "name": "python",
   "nbconvert_exporter": "python",
   "pygments_lexer": "ipython3",
   "version": "3.9.7"
  }
 },
 "nbformat": 4,
 "nbformat_minor": 2
}
